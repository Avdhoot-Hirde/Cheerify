{
 "cells": [
  {
   "cell_type": "code",
   "execution_count": 7,
   "id": "3a23bd6b",
   "metadata": {},
   "outputs": [],
   "source": [
    "from transformers import GPT2Tokenizer, GPT2LMHeadModel\n"
   ]
  },
  {
   "cell_type": "code",
   "execution_count": 8,
   "id": "df3afb1a",
   "metadata": {},
   "outputs": [],
   "source": [
    "model_name = \"gpt2\"\n",
    "\n",
    "tokenizer = GPT2Tokenizer.from_pretrained(model_name)\n",
    "tokenizer.pad_token = tokenizer.eos_token  # Set pad token\n",
    "\n",
    "model = GPT2LMHeadModel.from_pretrained(model_name)"
   ]
  },
  {
   "cell_type": "code",
   "execution_count": 9,
   "id": "c4599d86",
   "metadata": {},
   "outputs": [],
   "source": [
    "from datasets import Dataset\n",
    "\n",
    "examples = {\n",
    "    \"text\": [\n",
    "    \"Transfer to neutral: The website is confusing. <|endoftext|> The website could be more user-friendly.\",\n",
    "    \"Transfer to neutral: The package arrived broken. <|endoftext|> The package had some damage during shipping.\",\n",
    "    \"Transfer to neutral: This app is terrible. <|endoftext|> This app has some areas that could be improved.\",\n",
    "    \"Transfer to neutral: I didn't enjoy the show. <|endoftext|> The show wasn't my favorite.\",\n",
    "    \"Transfer to neutral: I'm not happy with this product. <|endoftext|> I have mixed feelings about this product.\",\n",
    "    \"Transfer to neutral: The design is ugly. <|endoftext|> The design is not to my taste.\",\n",
    "    \"Transfer to neutral: I hate this movie. <|endoftext|> This movie didn't appeal to me.\",\n",
    "    \"Transfer to neutral: The instructions are unclear. <|endoftext|> The instructions could use some clarification.\",\n",
    "    \"Transfer to neutral: The service was awful. <|endoftext|> The service could be better.\",\n",
    "    \"Transfer to neutral: Shipping was delayed. <|endoftext|> Shipping took longer than expected.\",\n",
    "    \"Transfer to neutral: I regret this purchase. <|endoftext|> I’m unsure about this purchase.\",\n",
    "    \"Transfer to neutral: Customer support was unhelpful. <|endoftext|> Customer support could have been more helpful.\",\n",
    "    \"Transfer to neutral: The product doesn't work. <|endoftext|> The product is not functioning as expected.\",\n",
    "    \"Transfer to neutral: The experience was frustrating. <|endoftext|> The experience was less than ideal.\",\n",
    "    \"Transfer to neutral: I feel disappointed in this product. <|endoftext|> I have mixed feelings about this product.\",\n",
    "    \"Transfer to neutral: This food is disgusting. <|endoftext|> This food could use some improvements.\",\n",
    "    \"Transfer to neutral: The quality is poor. <|endoftext|> The quality could be better.\",\n",
    "    \"Transfer to neutral: The app is unresponsive. <|endoftext|> The app has performance issues.\",\n",
    "    \"Transfer to neutral: This was a waste of time. <|endoftext|> I didn’t find this as useful as I expected.\",\n",
    "    \"Transfer to neutral: I feel unsatisfied with my purchase. <|endoftext|> I'm not entirely sure about my purchase.\",\n",
    "    \"Transfer to neutral: The website is slow. <|endoftext|> The website could use some performance improvements.\",\n",
    "    \"Transfer to neutral: The product didn’t meet my expectations. <|endoftext|> The product was different from what I expected.\",\n",
    "    \"Transfer to neutral: This movie was boring. <|endoftext|> The movie didn’t keep my interest.\",\n",
    "    \"Transfer to neutral: This restaurant is terrible. <|endoftext|> This restaurant didn’t meet my expectations.\",\n",
    "    \"Transfer to neutral: The design is bad. <|endoftext|> The design is not ideal for me.\",\n",
    "    \"Transfer to neutral: I hate the color scheme. <|endoftext|> The color scheme is not to my liking.\",\n",
    "    \"Transfer to neutral: The customer service was rude. <|endoftext|> The customer service wasn’t very polite.\",\n",
    "    \"Transfer to neutral: The product broke after one use. <|endoftext|> The product didn’t last as long as expected.\",\n",
    "    \"Transfer to neutral: I can’t recommend this product. <|endoftext|> I’m not sure if this product suits everyone.\",\n",
    "    \"Transfer to neutral: The food was awful. <|endoftext|> The food didn’t taste good.\",\n",
    "    \"Transfer to neutral: The app crashed. <|endoftext|> The app experienced some crashes.\",\n",
    "    \"Transfer to neutral: I feel cheated by this service. <|endoftext|> I’m uncertain about the value of this service.\",\n",
    "    \"Transfer to neutral: The sound quality is bad. <|endoftext|> The sound quality could use some improvements.\",\n",
    "    \"Transfer to neutral: The staff was unprofessional. <|endoftext|> The staff could have been more professional.\",\n",
    "    \"Transfer to neutral: I don't like this place. <|endoftext|> I feel neutral about this place.\",\n",
    "    \"Transfer to neutral: The instructions are difficult to follow. <|endoftext|> The instructions could be more straightforward.\",\n",
    "    \"Transfer to neutral: The game is unplayable. <|endoftext|> The game has several issues that need fixing.\",\n",
    "    \"Transfer to neutral: The app is not intuitive. <|endoftext|> The app could have a more user-friendly interface.\",\n",
    "    \"Transfer to neutral: The service was slow. <|endoftext|> The service could be faster.\",\n",
    "    \"Transfer to neutral: The food was cold. <|endoftext|> The food was served at a lower temperature than expected.\",\n",
    "    \"Transfer to neutral: The room was dirty. <|endoftext|> The room could have been cleaned better.\",\n",
    "    \"Transfer to neutral: The design is awful. <|endoftext|> The design is not appealing to me.\",\n",
    "    \"Transfer to neutral: I didn’t like the music. <|endoftext|> The music didn’t suit my taste.\",\n",
    "    \"Transfer to neutral: This phone is awful. <|endoftext|> This phone has several issues that need fixing.\",\n",
    "    \"Transfer to neutral: I am unhappy with the purchase. <|endoftext|> The purchase didn’t meet my expectations.\",\n",
    "    \"Transfer to neutral: The app is broken. <|endoftext|> The app has some bugs that need fixing.\",\n",
    "    \"Transfer to neutral: The quality is terrible. <|endoftext|> The quality could be much better.\",\n",
    "    \"Transfer to neutral: I didn’t like the presentation. <|endoftext|> The presentation could have been improved.\",\n",
    "    \"Transfer to neutral: The website is frustrating to use. <|endoftext|> The website could be more user-friendly.\",\n",
    "    \"Transfer to neutral: I don’t trust this brand. <|endoftext|> I have some reservations about this brand.\",\n",
    "    \"Transfer to neutral: The customer service is slow. <|endoftext|> The customer service could be faster.\",\n",
    "    \"Transfer to neutral: The app is confusing. <|endoftext|> The app could use a clearer design.\",\n",
    "    \"Transfer to neutral: The food was tasteless. <|endoftext|> The food lacked flavor.\",\n",
    "    \"Transfer to neutral: The delivery was late. <|endoftext|> The delivery took longer than expected.\",\n",
    "    \"Transfer to neutral: The user interface is bad. <|endoftext|> The user interface could be more intuitive.\",\n",
    "    \"Transfer to neutral: The room was uncomfortable. <|endoftext|> The room could have been more comfortable.\",\n",
    "    \"Transfer to neutral: This movie was terrible. <|endoftext|> The movie didn’t meet my expectations.\",\n",
    "    \"Transfer to neutral: The product isn’t useful. <|endoftext|> The product could be more useful in some situations.\",\n",
    "    \"Transfer to neutral: I hate the new update. <|endoftext|> I’m not fond of the new update.\",\n",
    "    \"Transfer to neutral: The event was a disaster. <|endoftext|> The event didn’t go as planned.\",\n",
    "    \"Transfer to neutral: The furniture is uncomfortable. <|endoftext|> The furniture could be more comfortable.\",\n",
    "    \"Transfer to neutral: I am dissatisfied with the experience. <|endoftext|> I’m not fully satisfied with the experience.\",\n",
    "    \"Transfer to neutral: The app is full of bugs. <|endoftext|> The app has some bugs that need fixing.\",\n",
    "    \"Transfer to neutral: I don't like the new feature. <|endoftext|> The new feature could be better.\",\n",
    "    \"Transfer to neutral: The interface is hard to use. <|endoftext|> The interface could be simplified.\",\n",
    "    \"Transfer to neutral: The quality of the product is poor. <|endoftext|> The product quality could be improved.\"\n",
    "]\n",
    "\n",
    "}\n",
    "\n",
    "\n",
    "dataset = Dataset.from_dict(examples)\n"
   ]
  },
  {
   "cell_type": "code",
   "execution_count": 10,
   "id": "111907e4",
   "metadata": {},
   "outputs": [
    {
     "name": "stderr",
     "output_type": "stream",
     "text": [
      "Map: 100%|██████████| 66/66 [00:00<00:00, 1015.38 examples/s]\n"
     ]
    }
   ],
   "source": [
    "def tokenize(example):\n",
    "    return tokenizer(example[\"text\"], truncation=True, padding=\"max_length\", max_length=64)\n",
    "\n",
    "tokenized_dataset = dataset.map(tokenize)"
   ]
  },
  {
   "cell_type": "code",
   "execution_count": 11,
   "id": "1027709e",
   "metadata": {},
   "outputs": [
    {
     "name": "stderr",
     "output_type": "stream",
     "text": [
      "C:\\Users\\HP\\AppData\\Local\\Temp\\ipykernel_10696\\3178597089.py:17: FutureWarning: `tokenizer` is deprecated and will be removed in version 5.0.0 for `Trainer.__init__`. Use `processing_class` instead.\n",
      "  trainer = Trainer(\n"
     ]
    },
    {
     "data": {
      "text/html": [
       "\n",
       "    <div>\n",
       "      \n",
       "      <progress value='165' max='165' style='width:300px; height:20px; vertical-align: middle;'></progress>\n",
       "      [165/165 03:08, Epoch 5/5]\n",
       "    </div>\n",
       "    <table border=\"1\" class=\"dataframe\">\n",
       "  <thead>\n",
       " <tr style=\"text-align: left;\">\n",
       "      <th>Step</th>\n",
       "      <th>Training Loss</th>\n",
       "    </tr>\n",
       "  </thead>\n",
       "  <tbody>\n",
       "    <tr>\n",
       "      <td>10</td>\n",
       "      <td>3.860000</td>\n",
       "    </tr>\n",
       "    <tr>\n",
       "      <td>20</td>\n",
       "      <td>1.798200</td>\n",
       "    </tr>\n",
       "    <tr>\n",
       "      <td>30</td>\n",
       "      <td>1.447800</td>\n",
       "    </tr>\n",
       "    <tr>\n",
       "      <td>40</td>\n",
       "      <td>1.175100</td>\n",
       "    </tr>\n",
       "    <tr>\n",
       "      <td>50</td>\n",
       "      <td>0.995000</td>\n",
       "    </tr>\n",
       "    <tr>\n",
       "      <td>60</td>\n",
       "      <td>0.859400</td>\n",
       "    </tr>\n",
       "    <tr>\n",
       "      <td>70</td>\n",
       "      <td>0.838900</td>\n",
       "    </tr>\n",
       "    <tr>\n",
       "      <td>80</td>\n",
       "      <td>0.804700</td>\n",
       "    </tr>\n",
       "    <tr>\n",
       "      <td>90</td>\n",
       "      <td>0.708100</td>\n",
       "    </tr>\n",
       "    <tr>\n",
       "      <td>100</td>\n",
       "      <td>0.683800</td>\n",
       "    </tr>\n",
       "    <tr>\n",
       "      <td>110</td>\n",
       "      <td>0.572600</td>\n",
       "    </tr>\n",
       "    <tr>\n",
       "      <td>120</td>\n",
       "      <td>0.658000</td>\n",
       "    </tr>\n",
       "    <tr>\n",
       "      <td>130</td>\n",
       "      <td>0.640300</td>\n",
       "    </tr>\n",
       "    <tr>\n",
       "      <td>140</td>\n",
       "      <td>0.550300</td>\n",
       "    </tr>\n",
       "    <tr>\n",
       "      <td>150</td>\n",
       "      <td>0.530000</td>\n",
       "    </tr>\n",
       "    <tr>\n",
       "      <td>160</td>\n",
       "      <td>0.566800</td>\n",
       "    </tr>\n",
       "  </tbody>\n",
       "</table><p>"
      ],
      "text/plain": [
       "<IPython.core.display.HTML object>"
      ]
     },
     "metadata": {},
     "output_type": "display_data"
    },
    {
     "data": {
      "text/plain": [
       "TrainOutput(global_step=165, training_loss=1.0259066495028408, metrics={'train_runtime': 192.8747, 'train_samples_per_second': 1.711, 'train_steps_per_second': 0.855, 'total_flos': 10778296320000.0, 'train_loss': 1.0259066495028408, 'epoch': 5.0})"
      ]
     },
     "execution_count": 11,
     "metadata": {},
     "output_type": "execute_result"
    }
   ],
   "source": [
    "from transformers import Trainer, TrainingArguments, DataCollatorForLanguageModeling\n",
    "\n",
    "data_collator = DataCollatorForLanguageModeling(\n",
    "    tokenizer=tokenizer, mlm=False  # No masked LM for GPT\n",
    ")\n",
    "\n",
    "training_args = TrainingArguments(\n",
    "    output_dir=\"D:/minor2/Neutral/gpt2-sentiment-transfer\",\n",
    "    per_device_train_batch_size=2,\n",
    "    num_train_epochs=5,\n",
    "    logging_steps=10,\n",
    "    save_steps=50,\n",
    "    fp16=False,\n",
    "    overwrite_output_dir=True\n",
    ")\n",
    "\n",
    "trainer = Trainer(\n",
    "    model=model,\n",
    "    args=training_args,\n",
    "    train_dataset=tokenized_dataset,\n",
    "    tokenizer=tokenizer,\n",
    "    data_collator=data_collator\n",
    ")\n",
    "\n",
    "trainer.train()\n"
   ]
  },
  {
   "cell_type": "code",
   "execution_count": 12,
   "id": "4315f42e",
   "metadata": {},
   "outputs": [
    {
     "data": {
      "text/plain": [
       "('D:/minor2/Neutral/gpt2-sentiment-transfer\\\\tokenizer_config.json',\n",
       " 'D:/minor2/Neutral/gpt2-sentiment-transfer\\\\special_tokens_map.json',\n",
       " 'D:/minor2/Neutral/gpt2-sentiment-transfer\\\\vocab.json',\n",
       " 'D:/minor2/Neutral/gpt2-sentiment-transfer\\\\merges.txt',\n",
       " 'D:/minor2/Neutral/gpt2-sentiment-transfer\\\\added_tokens.json')"
      ]
     },
     "execution_count": 12,
     "metadata": {},
     "output_type": "execute_result"
    }
   ],
   "source": [
    "trainer.save_model(\"D:/minor2/Neutral/gpt2-sentiment-transfer\")\n",
    "tokenizer.save_pretrained(\"D:/minor2/Neutral/gpt2-sentiment-transfer\")"
   ]
  },
  {
   "cell_type": "code",
   "execution_count": null,
   "id": "3ca360b5",
   "metadata": {},
   "outputs": [],
   "source": []
  }
 ],
 "metadata": {
  "kernelspec": {
   "display_name": ".venv",
   "language": "python",
   "name": "python3"
  },
  "language_info": {
   "codemirror_mode": {
    "name": "ipython",
    "version": 3
   },
   "file_extension": ".py",
   "mimetype": "text/x-python",
   "name": "python",
   "nbconvert_exporter": "python",
   "pygments_lexer": "ipython3",
   "version": "3.11.0"
  }
 },
 "nbformat": 4,
 "nbformat_minor": 5
}
